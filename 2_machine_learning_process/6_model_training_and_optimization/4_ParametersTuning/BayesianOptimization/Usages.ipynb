{
 "cells": [
  {
   "cell_type": "code",
   "execution_count": 1,
   "metadata": {
    "collapsed": true
   },
   "outputs": [],
   "source": [
    "import warnings\n",
    "warnings.filterwarnings('ignore')\n",
    "from bayes_opt import BayesianOptimization\n",
    "# use sklearn's default parameters for theta and random_start\n",
    "gp_params = {\"alpha\": 1e-5, \"n_restarts_optimizer\": 2}"
   ]
  },
  {
   "cell_type": "markdown",
   "metadata": {},
   "source": [
    "## 1. 定义需要最大化的函数f，以及参数边界bo.bounds"
   ]
  },
  {
   "cell_type": "code",
   "execution_count": 2,
   "metadata": {
    "collapsed": true
   },
   "outputs": [],
   "source": [
    "bo = BayesianOptimization(lambda x, y: -x ** 2 - (y - 1) ** 2 + 1,\n",
    "                          {'x': (-4, 4), 'y': (-3, 3)}) # 边界bo.bounds"
   ]
  },
  {
   "cell_type": "markdown",
   "metadata": {},
   "source": [
    "## 2. 先验知识: 添加已知点（可不加）"
   ]
  },
  {
   "cell_type": "code",
   "execution_count": 3,
   "metadata": {
    "collapsed": true
   },
   "outputs": [],
   "source": [
    "bo.initialize(\n",
    "    {\n",
    "        'target': [-1, -1],\n",
    "        'x': [1, 1],\n",
    "        'y': [0, 2]\n",
    "    }\n",
    ")"
   ]
  },
  {
   "cell_type": "markdown",
   "metadata": {},
   "source": [
    "## 3. 添加算法探索点"
   ]
  },
  {
   "cell_type": "code",
   "execution_count": 4,
   "metadata": {
    "collapsed": true
   },
   "outputs": [],
   "source": [
    "# bo.init_points\n",
    "bo.explore({'x': [-1, 3], 'y': [-2, 2]})"
   ]
  },
  {
   "cell_type": "markdown",
   "metadata": {},
   "source": [
    "## 4. 初始化后，maximize使得算法最优\n",
    "- ucb: kappa\n",
    "- ei: xi\n",
    "- poi: xi"
   ]
  },
  {
   "cell_type": "code",
   "execution_count": 5,
   "metadata": {},
   "outputs": [
    {
     "name": "stdout",
     "output_type": "stream",
     "text": [
      "\u001b[31mInitialization\u001b[0m\n",
      "\u001b[94m-----------------------------------------------------\u001b[0m\n",
      " Step |   Time |      Value |         x |         y | \n",
      "    1 | 00m00s | \u001b[35m  -9.00000\u001b[0m | \u001b[32m  -1.0000\u001b[0m | \u001b[32m  -2.0000\u001b[0m | \n",
      "    2 | 00m00s |   -9.00000 |    3.0000 |    2.0000 | \n",
      "    3 | 00m00s | \u001b[35m  -2.23733\u001b[0m | \u001b[32m   1.6346\u001b[0m | \u001b[32m   0.2480\u001b[0m | \n",
      "    4 | 00m00s |   -5.96235 |    2.5539 |    0.3366 | \n",
      "    5 | 00m00s |   -2.29100 |   -1.8000 |    1.2258 | \n",
      "    6 | 00m00s |   -4.60249 |   -2.0339 |   -0.2107 | \n",
      "    7 | 00m00s |   -3.99402 |   -2.0108 |    0.0250 | \n",
      "\u001b[31mBayesian Optimization\u001b[0m\n",
      "\u001b[94m-----------------------------------------------------\u001b[0m\n",
      " Step |   Time |      Value |         x |         y | \n",
      "    8 | 00m21s |   -3.02698 |   -0.1642 |    3.0000 | \n",
      "    9 | 00m10s |   -5.41167 |    2.2161 |   -0.2250 | \u001b[31mWarning: Test point chose at random due to repeated sample.\u001b[0m\n",
      "\n",
      "   10 | 00m11s |  -19.00000 |   -4.0000 |    3.0000 | \n",
      "   11 | 00m12s | \u001b[35m   0.70944\u001b[0m | \u001b[32m   0.5390\u001b[0m | \u001b[32m   0.9930\u001b[0m | \n",
      "   12 | 00m13s | \u001b[35m   0.91149\u001b[0m | \u001b[32m   0.2840\u001b[0m | \u001b[32m   1.0886\u001b[0m | \n"
     ]
    }
   ],
   "source": [
    "# init_points=5, n_iter=25, acq='ucb'|'ei'|'poi', kappa=2.576, xi=0.0\n",
    "bo.maximize(n_iter=5, kappa=1)"
   ]
  },
  {
   "cell_type": "markdown",
   "metadata": {},
   "source": [
    "## 5. 若不能满足需求，添加更多探索点（从3.继续）"
   ]
  },
  {
   "cell_type": "code",
   "execution_count": 6,
   "metadata": {},
   "outputs": [
    {
     "name": "stdout",
     "output_type": "stream",
     "text": [
      "\u001b[31mBayesian Optimization\u001b[0m\n",
      "\u001b[94m-----------------------------------------------------\u001b[0m\n",
      " Step |   Time |      Value |         x |         y | \n",
      "   13 | 00m22s | \u001b[35m   0.99722\u001b[0m | \u001b[32m   0.0501\u001b[0m | \u001b[32m   0.9835\u001b[0m | \n",
      "   14 | 00m12s |  -13.92047 |    3.5035 |   -0.6266 | \u001b[31mWarning: Test point chose at random due to repeated sample.\u001b[0m\n",
      "\n",
      "   15 | 00m08s |    0.95036 |    0.1557 |    0.8406 | \n",
      "   16 | 00m06s |  -31.00000 |   -4.0000 |   -3.0000 | \n",
      "   17 | 00m04s |    0.96899 |   -0.1535 |    0.9137 | \n"
     ]
    }
   ],
   "source": [
    "bo.explore({'x': [0.6], 'y': [-0.23]})\n",
    "bo.maximize(n_iter=5, acq='ei', **gp_params)"
   ]
  },
  {
   "cell_type": "code",
   "execution_count": 7,
   "metadata": {},
   "outputs": [
    {
     "name": "stdout",
     "output_type": "stream",
     "text": [
      "{'max_val': 0.9972196660258531, 'max_params': {'y': 0.98354670849551307, 'x': 0.050096139300501205}}\n"
     ]
    }
   ],
   "source": [
    "# Finally, we take a look at the final results.\n",
    "print(bo.res['max'])\n",
    "# print(bo.res['all'])"
   ]
  }
 ],
 "metadata": {
  "kernelspec": {
   "display_name": "Python 3",
   "language": "python",
   "name": "python3"
  },
  "language_info": {
   "codemirror_mode": {
    "name": "ipython",
    "version": 3
   },
   "file_extension": ".py",
   "mimetype": "text/x-python",
   "name": "python",
   "nbconvert_exporter": "python",
   "pygments_lexer": "ipython3",
   "version": "3.5.3"
  }
 },
 "nbformat": 4,
 "nbformat_minor": 2
}
